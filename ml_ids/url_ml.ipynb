{
 "cells": [
  {
   "cell_type": "code",
   "execution_count": 18,
   "metadata": {},
   "outputs": [],
   "source": [
    "import pandas as pd"
   ]
  },
  {
   "cell_type": "code",
   "execution_count": 19,
   "metadata": {},
   "outputs": [],
   "source": [
    "# import pandas as pd\n",
    "\n",
    "# # Read the CSV file\n",
    "# df = pd.read_csv('url.csv')\n",
    "\n",
    "# # Drop rows with NaN values\n",
    "# df.dropna(inplace=True)\n",
    "\n",
    "# # Write the modified dataframe to a new CSV file\n",
    "# df.to_csv('mal_url.csv', index=False)\n"
   ]
  },
  {
   "cell_type": "code",
   "execution_count": 20,
   "metadata": {},
   "outputs": [],
   "source": [
    "urls_data = pd.read_csv(\"mail_url_dataset.csv\")"
   ]
  },
  {
   "cell_type": "code",
   "execution_count": 21,
   "metadata": {},
   "outputs": [
    {
     "data": {
      "text/html": [
       "<div>\n",
       "<style scoped>\n",
       "    .dataframe tbody tr th:only-of-type {\n",
       "        vertical-align: middle;\n",
       "    }\n",
       "\n",
       "    .dataframe tbody tr th {\n",
       "        vertical-align: top;\n",
       "    }\n",
       "\n",
       "    .dataframe thead th {\n",
       "        text-align: right;\n",
       "    }\n",
       "</style>\n",
       "<table border=\"1\" class=\"dataframe\">\n",
       "  <thead>\n",
       "    <tr style=\"text-align: right;\">\n",
       "      <th></th>\n",
       "      <th>url</th>\n",
       "      <th>label</th>\n",
       "    </tr>\n",
       "  </thead>\n",
       "  <tbody>\n",
       "    <tr>\n",
       "      <th>0</th>\n",
       "      <td>br-icloud.com.br</td>\n",
       "      <td>bad</td>\n",
       "    </tr>\n",
       "    <tr>\n",
       "      <th>1</th>\n",
       "      <td>mp3raid.com/music/krizz_kaliko.html</td>\n",
       "      <td>good</td>\n",
       "    </tr>\n",
       "    <tr>\n",
       "      <th>2</th>\n",
       "      <td>bopsecrets.org/rexroth/cr/1.htm</td>\n",
       "      <td>good</td>\n",
       "    </tr>\n",
       "    <tr>\n",
       "      <th>3</th>\n",
       "      <td>http://www.garage-pirenne.be/index.php?option=...</td>\n",
       "      <td>bad</td>\n",
       "    </tr>\n",
       "    <tr>\n",
       "      <th>4</th>\n",
       "      <td>http://adventure-nicaragua.net/index.php?optio...</td>\n",
       "      <td>bad</td>\n",
       "    </tr>\n",
       "  </tbody>\n",
       "</table>\n",
       "</div>"
      ],
      "text/plain": [
       "                                                 url label\n",
       "0                                   br-icloud.com.br   bad\n",
       "1                mp3raid.com/music/krizz_kaliko.html  good\n",
       "2                    bopsecrets.org/rexroth/cr/1.htm  good\n",
       "3  http://www.garage-pirenne.be/index.php?option=...   bad\n",
       "4  http://adventure-nicaragua.net/index.php?optio...   bad"
      ]
     },
     "execution_count": 21,
     "metadata": {},
     "output_type": "execute_result"
    }
   ],
   "source": [
    "urls_data.head()"
   ]
  },
  {
   "cell_type": "code",
   "execution_count": 22,
   "metadata": {},
   "outputs": [],
   "source": [
    "def makeTokens(f):\n",
    "    tkns_BySlash = str(f.encode('utf-8')).split('/') # make tokens after splitting by slash\n",
    "    total_Tokens = []\n",
    "\n",
    "    for i in tkns_BySlash:\n",
    "            tokens = str(i).split('-') # make tokens after splitting by dash\n",
    "            tkns_ByDot = []\n",
    "\n",
    "    for j in range(0,len(tokens)):\n",
    "        temp_Tokens = str(tokens[j]).split('.') # make tokens after splitting by dot\n",
    "        tkns_ByDot = tkns_ByDot + temp_Tokens\n",
    "        total_Tokens = total_Tokens + tokens + tkns_ByDot\n",
    "        total_Tokens = list(set(total_Tokens))  #remove redundant tokens\n",
    "\n",
    "        if 'com' in total_Tokens:\n",
    "            total_Tokens.remove('com') # removing .com since it occurs a lot of times and it should not be included in our features\n",
    "    \n",
    "    return total_Tokens"
   ]
  },
  {
   "cell_type": "code",
   "execution_count": 23,
   "metadata": {},
   "outputs": [],
   "source": [
    "url_list = urls_data[\"url\"]\n",
    "y = urls_data[\"label\"]"
   ]
  },
  {
   "cell_type": "code",
   "execution_count": 24,
   "metadata": {},
   "outputs": [],
   "source": [
    "from sklearn.linear_model import LogisticRegression\n",
    "from sklearn.model_selection import train_test_split\n",
    "from sklearn.feature_extraction.text import TfidfVectorizer"
   ]
  },
  {
   "cell_type": "code",
   "execution_count": 25,
   "metadata": {},
   "outputs": [],
   "source": [
    "vectorizer = TfidfVectorizer(tokenizer=makeTokens)"
   ]
  },
  {
   "cell_type": "code",
   "execution_count": 26,
   "metadata": {},
   "outputs": [
    {
     "data": {
      "text/plain": [
       "<651191x620400 sparse matrix of type '<class 'numpy.float64'>'\n",
       "\twith 1861635 stored elements in Compressed Sparse Row format>"
      ]
     },
     "execution_count": 26,
     "metadata": {},
     "output_type": "execute_result"
    }
   ],
   "source": [
    "X = vectorizer.fit_transform(url_list)\n",
    "X"
   ]
  },
  {
   "cell_type": "code",
   "execution_count": 27,
   "metadata": {},
   "outputs": [],
   "source": [
    "X_train, X_test, y_train, y_test = train_test_split(X, y, test_size=0.2, random_state=42)   "
   ]
  },
  {
   "cell_type": "code",
   "execution_count": 28,
   "metadata": {},
   "outputs": [
    {
     "name": "stdout",
     "output_type": "stream",
     "text": [
      "  (0, 243997)\t0.6940705142014866\n",
      "  (0, 540878)\t0.42996718892964186\n",
      "  (0, 243987)\t0.5774030981558946\n",
      "  (1, 282165)\t1.0\n",
      "  (2, 6812)\t1.0\n",
      "  (3, 94111)\t1.0\n",
      "  (4, 196362)\t0.4342898132364817\n",
      "  (4, 576466)\t0.44214903398225425\n",
      "  (4, 576948)\t0.48284484934993677\n",
      "  (4, 416839)\t0.3377106383419343\n",
      "  (4, 41806)\t0.31205240694459707\n",
      "  (4, 41944)\t0.39190624328135953\n",
      "  (4, 303767)\t0.13319819019670107\n",
      "  (5, 15644)\t0.6558973981962697\n",
      "  (5, 181136)\t0.5894956260966009\n",
      "  (5, 249499)\t0.4714801266780398\n",
      "  (6, 476307)\t0.6971512880557144\n",
      "  (6, 341995)\t0.6971512880557144\n",
      "  (6, 318850)\t0.16721292750417577\n",
      "  (7, 98022)\t1.0\n",
      "  (8, 252556)\t0.6146688457676064\n",
      "  (8, 445954)\t0.6146688457676064\n",
      "  (8, 281914)\t0.49433229723075656\n",
      "  (9, 530563)\t0.36667655426075546\n",
      "  (9, 69573)\t0.3778652309537698\n",
      "  :\t:\n",
      "  (130230, 6812)\t1.0\n",
      "  (130231, 152335)\t0.5918070601483025\n",
      "  (130231, 152336)\t0.5918070601483025\n",
      "  (130231, 376936)\t0.4544567337232934\n",
      "  (130231, 222712)\t0.30495554477792736\n",
      "  (130232, 472008)\t0.585621063032143\n",
      "  (130232, 337722)\t0.585621063032143\n",
      "  (130232, 45367)\t0.4247672225861528\n",
      "  (130232, 9810)\t0.3375486847052035\n",
      "  (130232, 318850)\t0.14046221248591642\n",
      "  (130233, 350236)\t0.6918157261891732\n",
      "  (130233, 483659)\t0.6918157261891732\n",
      "  (130233, 318850)\t0.20683810576074713\n",
      "  (130234, 6812)\t1.0\n",
      "  (130235, 595809)\t1.0\n",
      "  (130236, 6812)\t1.0\n",
      "  (130237, 360283)\t0.7639581684058143\n",
      "  (130237, 360276)\t0.6199835664401628\n",
      "  (130237, 303767)\t0.1788527166977604\n",
      "  (130238, 506391)\t0.4733503484932734\n",
      "  (130238, 499071)\t0.455938259643778\n",
      "  (130238, 544997)\t0.44414059614575824\n",
      "  (130238, 433958)\t0.3963138776490657\n",
      "  (130238, 250500)\t0.35208297642429726\n",
      "  (130238, 432781)\t0.29961937508205166\n"
     ]
    }
   ],
   "source": [
    "print(X_test)"
   ]
  },
  {
   "cell_type": "code",
   "execution_count": 29,
   "metadata": {},
   "outputs": [],
   "source": [
    "logit = LogisticRegression()"
   ]
  },
  {
   "cell_type": "code",
   "execution_count": 30,
   "metadata": {},
   "outputs": [
    {
     "name": "stderr",
     "output_type": "stream",
     "text": [
      "c:\\ProgramData\\Anaconda3\\lib\\site-packages\\sklearn\\linear_model\\_logistic.py:814: ConvergenceWarning: lbfgs failed to converge (status=1):\n",
      "STOP: TOTAL NO. of ITERATIONS REACHED LIMIT.\n",
      "\n",
      "Increase the number of iterations (max_iter) or scale the data as shown in:\n",
      "    https://scikit-learn.org/stable/modules/preprocessing.html\n",
      "Please also refer to the documentation for alternative solver options:\n",
      "    https://scikit-learn.org/stable/modules/linear_model.html#logistic-regression\n",
      "  n_iter_i = _check_optimize_result(\n"
     ]
    },
    {
     "data": {
      "text/plain": [
       "LogisticRegression()"
      ]
     },
     "execution_count": 30,
     "metadata": {},
     "output_type": "execute_result"
    }
   ],
   "source": [
    "logit.fit(X_train, y_train)"
   ]
  },
  {
   "cell_type": "code",
   "execution_count": 31,
   "metadata": {},
   "outputs": [
    {
     "name": "stdout",
     "output_type": "stream",
     "text": [
      "Accuracy  0.8379901565583274\n"
     ]
    }
   ],
   "source": [
    "print(\"Accuracy \",logit.score(X_test, y_test))"
   ]
  },
  {
   "cell_type": "code",
   "execution_count": 32,
   "metadata": {},
   "outputs": [],
   "source": [
    "X_predict = [\"https://www.section.io/engineering-education/\",\n",
    "\"https://www.youtube.com/\",\n",
    "\"https://www.traversymedia.com/\", \n",
    "\"https://www.kleinehundezuhause.com\", \n",
    "\"http://ttps://www.mecymiafinance.com\",\n",
    "\"https://www.atlanticoceanicoilandgas.com\"]"
   ]
  },
  {
   "cell_type": "code",
   "execution_count": 33,
   "metadata": {},
   "outputs": [],
   "source": [
    "X_predict = vectorizer.transform(X_predict)\n",
    "New_predict = logit.predict(X_predict)"
   ]
  },
  {
   "cell_type": "code",
   "execution_count": 34,
   "metadata": {},
   "outputs": [
    {
     "name": "stdout",
     "output_type": "stream",
     "text": [
      "['good' 'good' 'good' 'bad' 'bad' 'bad']\n"
     ]
    }
   ],
   "source": [
    "print(New_predict)"
   ]
  },
  {
   "cell_type": "code",
   "execution_count": 35,
   "metadata": {},
   "outputs": [
    {
     "name": "stdout",
     "output_type": "stream",
     "text": [
      "['bad']\n"
     ]
    }
   ],
   "source": [
    "X_predict1 = [\"http://www.garage-pirenne.be/index.php?option=com_content&view=article&id=70&vsig70_0=15\"]\n",
    "\n",
    "\n",
    "X_predict1 = vectorizer.transform(X_predict1)\n",
    "New_predict1 = logit.predict(X_predict1)\n",
    "print(New_predict1)"
   ]
  },
  {
   "cell_type": "code",
   "execution_count": 36,
   "metadata": {},
   "outputs": [
    {
     "data": {
      "text/plain": [
       "['model.pkl']"
      ]
     },
     "execution_count": 36,
     "metadata": {},
     "output_type": "execute_result"
    }
   ],
   "source": [
    "# Importing required libraries\n",
    "import joblib\n",
    "\n",
    "# Saving the trained model as a file\n",
    "joblib.dump(logit, 'model.pkl')"
   ]
  },
  {
   "cell_type": "code",
   "execution_count": 37,
   "metadata": {},
   "outputs": [
    {
     "name": "stdout",
     "output_type": "stream",
     "text": [
      "['good']\n"
     ]
    }
   ],
   "source": [
    "# predict for me\n",
    "def predict_for_me(url):\n",
    "    X_predict1 = [url]\n",
    "\n",
    "    load = joblib.load('model.pkl')\n",
    "    X_predict1 = vectorizer.transform(X_predict1)\n",
    "    print(load.predict(X_predict1))\n",
    "\n",
    "predict_for_me('https://www.youtube.com/watch?v=WZl5-JhJh}')"
   ]
  },
  {
   "cell_type": "code",
   "execution_count": null,
   "metadata": {},
   "outputs": [],
   "source": []
  }
 ],
 "metadata": {
  "kernelspec": {
   "display_name": "Python 3",
   "language": "python",
   "name": "python3"
  },
  "language_info": {
   "codemirror_mode": {
    "name": "ipython",
    "version": 3
   },
   "file_extension": ".py",
   "mimetype": "text/x-python",
   "name": "python",
   "nbconvert_exporter": "python",
   "pygments_lexer": "ipython3",
   "version": "3.9.13"
  },
  "orig_nbformat": 4
 },
 "nbformat": 4,
 "nbformat_minor": 2
}
